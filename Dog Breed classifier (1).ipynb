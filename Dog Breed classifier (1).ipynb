{
 "cells": [
  {
   "cell_type": "markdown",
   "metadata": {},
   "source": [
    "# Dod-Breed Classifier"
   ]
  },
  {
   "cell_type": "markdown",
   "metadata": {},
   "source": [
    "# 1: 120 Class Classifier"
   ]
  },
  {
   "cell_type": "markdown",
   "metadata": {},
   "source": [
    "### Here I am trying to detect the different breeds of dogs. \n",
    "### Data was Obtained from Kaggel the link is provided here https://www.kaggle.com/c/dog-breed-identification/data\n"
   ]
  },
  {
   "cell_type": "markdown",
   "metadata": {},
   "source": [
    "### The number of classes/breeds in this dataset is 120 and I am trying to predict amoung that."
   ]
  },
  {
   "cell_type": "markdown",
   "metadata": {},
   "source": [
    "# Loading the Data and Preprocessing"
   ]
  },
  {
   "cell_type": "code",
   "execution_count": null,
   "metadata": {},
   "outputs": [],
   "source": [
    "img_path = r\"C:\\Users\\amalr\\OneDrive\\Desktop\\data\\train\""
   ]
  },
  {
   "cell_type": "code",
   "execution_count": 4,
   "metadata": {},
   "outputs": [],
   "source": [
    "import numpy as np\n",
    "import pandas as pd\n",
    "import os\n",
    "import cv2\n",
    "import random"
   ]
  },
  {
   "cell_type": "code",
   "execution_count": 5,
   "metadata": {},
   "outputs": [],
   "source": [
    "df = pd.read_csv(r\"C:\\Users\\amalr\\OneDrive\\Desktop\\data\\dog_breed_labels.csv\")"
   ]
  },
  {
   "cell_type": "code",
   "execution_count": 4,
   "metadata": {},
   "outputs": [
    {
     "data": {
      "text/html": [
       "<div>\n",
       "<style scoped>\n",
       "    .dataframe tbody tr th:only-of-type {\n",
       "        vertical-align: middle;\n",
       "    }\n",
       "\n",
       "    .dataframe tbody tr th {\n",
       "        vertical-align: top;\n",
       "    }\n",
       "\n",
       "    .dataframe thead th {\n",
       "        text-align: right;\n",
       "    }\n",
       "</style>\n",
       "<table border=\"1\" class=\"dataframe\">\n",
       "  <thead>\n",
       "    <tr style=\"text-align: right;\">\n",
       "      <th></th>\n",
       "      <th>id</th>\n",
       "      <th>breed</th>\n",
       "    </tr>\n",
       "  </thead>\n",
       "  <tbody>\n",
       "    <tr>\n",
       "      <th>0</th>\n",
       "      <td>000bec180eb18c7604dcecc8fe0dba07</td>\n",
       "      <td>boston_bull</td>\n",
       "    </tr>\n",
       "    <tr>\n",
       "      <th>1</th>\n",
       "      <td>001513dfcb2ffafc82cccf4d8bbaba97</td>\n",
       "      <td>dingo</td>\n",
       "    </tr>\n",
       "    <tr>\n",
       "      <th>2</th>\n",
       "      <td>001cdf01b096e06d78e9e5112d419397</td>\n",
       "      <td>pekinese</td>\n",
       "    </tr>\n",
       "    <tr>\n",
       "      <th>3</th>\n",
       "      <td>00214f311d5d2247d5dfe4fe24b2303d</td>\n",
       "      <td>bluetick</td>\n",
       "    </tr>\n",
       "    <tr>\n",
       "      <th>4</th>\n",
       "      <td>0021f9ceb3235effd7fcde7f7538ed62</td>\n",
       "      <td>golden_retriever</td>\n",
       "    </tr>\n",
       "    <tr>\n",
       "      <th>...</th>\n",
       "      <td>...</td>\n",
       "      <td>...</td>\n",
       "    </tr>\n",
       "    <tr>\n",
       "      <th>10217</th>\n",
       "      <td>ffd25009d635cfd16e793503ac5edef0</td>\n",
       "      <td>borzoi</td>\n",
       "    </tr>\n",
       "    <tr>\n",
       "      <th>10218</th>\n",
       "      <td>ffd3f636f7f379c51ba3648a9ff8254f</td>\n",
       "      <td>dandie_dinmont</td>\n",
       "    </tr>\n",
       "    <tr>\n",
       "      <th>10219</th>\n",
       "      <td>ffe2ca6c940cddfee68fa3cc6c63213f</td>\n",
       "      <td>airedale</td>\n",
       "    </tr>\n",
       "    <tr>\n",
       "      <th>10220</th>\n",
       "      <td>ffe5f6d8e2bff356e9482a80a6e29aac</td>\n",
       "      <td>miniature_pinscher</td>\n",
       "    </tr>\n",
       "    <tr>\n",
       "      <th>10221</th>\n",
       "      <td>fff43b07992508bc822f33d8ffd902ae</td>\n",
       "      <td>chesapeake_bay_retriever</td>\n",
       "    </tr>\n",
       "  </tbody>\n",
       "</table>\n",
       "<p>10222 rows × 2 columns</p>\n",
       "</div>"
      ],
      "text/plain": [
       "                                     id                     breed\n",
       "0      000bec180eb18c7604dcecc8fe0dba07               boston_bull\n",
       "1      001513dfcb2ffafc82cccf4d8bbaba97                     dingo\n",
       "2      001cdf01b096e06d78e9e5112d419397                  pekinese\n",
       "3      00214f311d5d2247d5dfe4fe24b2303d                  bluetick\n",
       "4      0021f9ceb3235effd7fcde7f7538ed62          golden_retriever\n",
       "...                                 ...                       ...\n",
       "10217  ffd25009d635cfd16e793503ac5edef0                    borzoi\n",
       "10218  ffd3f636f7f379c51ba3648a9ff8254f            dandie_dinmont\n",
       "10219  ffe2ca6c940cddfee68fa3cc6c63213f                  airedale\n",
       "10220  ffe5f6d8e2bff356e9482a80a6e29aac        miniature_pinscher\n",
       "10221  fff43b07992508bc822f33d8ffd902ae  chesapeake_bay_retriever\n",
       "\n",
       "[10222 rows x 2 columns]"
      ]
     },
     "execution_count": 4,
     "metadata": {},
     "output_type": "execute_result"
    }
   ],
   "source": [
    "df"
   ]
  },
  {
   "cell_type": "code",
   "execution_count": 9,
   "metadata": {},
   "outputs": [],
   "source": [
    "# Class names\n",
    "names = list(df[\"breed\"].unique())"
   ]
  },
  {
   "cell_type": "code",
   "execution_count": 72,
   "metadata": {},
   "outputs": [],
   "source": [
    "# creating the training data\n",
    "training_data = []\n",
    "for i in range(len(df)):\n",
    "    path = os.path.join(img_path,df[\"id\"][i])+\".jpg\"\n",
    "    #print(path)\n",
    "    img_arr = cv2.imread(path,1)\n",
    "    #print(img_arr.shape)\n",
    "    img_arr = cv2.resize(img_arr,(224,224))\n",
    "    training_data.append([img_arr,names.index(df[\"breed\"][i])])\n",
    "    "
   ]
  },
  {
   "cell_type": "code",
   "execution_count": 73,
   "metadata": {},
   "outputs": [
    {
     "data": {
      "text/plain": [
       "10222"
      ]
     },
     "execution_count": 73,
     "metadata": {},
     "output_type": "execute_result"
    }
   ],
   "source": [
    "# number of data points\n",
    "len(training_data)"
   ]
  },
  {
   "cell_type": "code",
   "execution_count": 74,
   "metadata": {},
   "outputs": [],
   "source": [
    "random.shuffle(training_data)    "
   ]
  },
  {
   "cell_type": "code",
   "execution_count": 75,
   "metadata": {},
   "outputs": [],
   "source": [
    "# Creating  the data and variable\n",
    "x = []\n",
    "y = []\n",
    "for img,label in training_data:\n",
    "    x.append(img)\n",
    "    y.append(label)\n",
    "    "
   ]
  },
  {
   "cell_type": "code",
   "execution_count": 76,
   "metadata": {},
   "outputs": [],
   "source": [
    "# Scaling the data\n",
    "x = np.array(x)/255"
   ]
  },
  {
   "cell_type": "code",
   "execution_count": 77,
   "metadata": {},
   "outputs": [
    {
     "data": {
      "text/plain": [
       "(10222, 224, 224, 3)"
      ]
     },
     "execution_count": 77,
     "metadata": {},
     "output_type": "execute_result"
    }
   ],
   "source": [
    "x.shape"
   ]
  },
  {
   "cell_type": "code",
   "execution_count": null,
   "metadata": {},
   "outputs": [],
   "source": [
    "y = np.array(y)\n",
    "y.shape"
   ]
  },
  {
   "cell_type": "code",
   "execution_count": 82,
   "metadata": {},
   "outputs": [],
   "source": []
  },
  {
   "cell_type": "code",
   "execution_count": 118,
   "metadata": {},
   "outputs": [],
   "source": [
    "#from sklearn.model_selection import train_test_split\n",
    "#x_train,x_test,y_train,y_test = train_test_split(x,y,test_size=.2,random_state= 1)"
   ]
  },
  {
   "cell_type": "markdown",
   "metadata": {},
   "source": [
    "# Model Creation"
   ]
  },
  {
   "cell_type": "markdown",
   "metadata": {},
   "source": [
    "### Since the problem at hand is a very huge one the I am using transfer learning.\n",
    "### I am using the pretrained Mobilenet_V2 model.\n",
    "### Model takes in images of size (224,224,3)"
   ]
  },
  {
   "cell_type": "code",
   "execution_count": 14,
   "metadata": {},
   "outputs": [],
   "source": [
    "import tensorflow as tf\n",
    "from tensorflow.keras.models import Sequential\n",
    "from tensorflow.keras.layers import Conv2D,Dense,Dropout,Activation,Flatten,MaxPooling2D\n",
    "import tensorflow_hub as hub"
   ]
  },
  {
   "cell_type": "code",
   "execution_count": 15,
   "metadata": {},
   "outputs": [],
   "source": [
    "feature_extractor = \"https://tfhub.dev/google/tf2-preview/mobilenet_v2/feature_vector/4\""
   ]
  },
  {
   "cell_type": "markdown",
   "metadata": {},
   "source": [
    "### this\"feature_extractor\" is the same model as the Mobilenet-V2 except for the last layer it is excluded here."
   ]
  },
  {
   "cell_type": "code",
   "execution_count": 16,
   "metadata": {},
   "outputs": [],
   "source": [
    "mobnet = hub.KerasLayer(feature_extractor,input_shape=(224,224,3),trainable = False)"
   ]
  },
  {
   "cell_type": "code",
   "execution_count": 90,
   "metadata": {},
   "outputs": [],
   "source": [
    "classes = 120\n",
    "model = Sequential()\n",
    "model.add(mobnet)\n",
    "model.add(Dense(128))\n",
    "model.add(Activation(\"relu\"))\n",
    "model.add(Dense(classes))\n",
    "model.add(Activation(\"softmax\"))"
   ]
  },
  {
   "cell_type": "code",
   "execution_count": 91,
   "metadata": {},
   "outputs": [
    {
     "name": "stdout",
     "output_type": "stream",
     "text": [
      "Model: \"sequential_8\"\n",
      "_________________________________________________________________\n",
      "Layer (type)                 Output Shape              Param #   \n",
      "=================================================================\n",
      "keras_layer_4 (KerasLayer)   (None, 1280)              2257984   \n",
      "_________________________________________________________________\n",
      "dense_5 (Dense)              (None, 128)               163968    \n",
      "_________________________________________________________________\n",
      "activation_4 (Activation)    (None, 128)               0         \n",
      "_________________________________________________________________\n",
      "dense_6 (Dense)              (None, 120)               15480     \n",
      "_________________________________________________________________\n",
      "activation_5 (Activation)    (None, 120)               0         \n",
      "=================================================================\n",
      "Total params: 2,437,432\n",
      "Trainable params: 179,448\n",
      "Non-trainable params: 2,257,984\n",
      "_________________________________________________________________\n"
     ]
    }
   ],
   "source": [
    "model.summary()"
   ]
  },
  {
   "cell_type": "code",
   "execution_count": 93,
   "metadata": {},
   "outputs": [],
   "source": [
    "model.compile(optimizer=\"adam\",\n",
    "             loss = \"sparse_categorical_crossentropy\",\n",
    "             metrics = [\"accuracy\"])"
   ]
  },
  {
   "cell_type": "code",
   "execution_count": 94,
   "metadata": {},
   "outputs": [
    {
     "name": "stdout",
     "output_type": "stream",
     "text": [
      "Epoch 1/5\n",
      "224/224 [==============================] - 219s 957ms/step - loss: 3.4935 - accuracy: 0.2484 - val_loss: 1.3697 - val_accuracy: 0.5911\n",
      "Epoch 2/5\n",
      "224/224 [==============================] - 197s 880ms/step - loss: 1.0552 - accuracy: 0.6928 - val_loss: 1.2575 - val_accuracy: 0.6247\n",
      "Epoch 3/5\n",
      "224/224 [==============================] - 190s 850ms/step - loss: 0.6963 - accuracy: 0.7873 - val_loss: 1.2080 - val_accuracy: 0.6469\n",
      "Epoch 4/5\n",
      "224/224 [==============================] - 192s 859ms/step - loss: 0.4888 - accuracy: 0.8586 - val_loss: 1.1345 - val_accuracy: 0.6648\n",
      "Epoch 5/5\n",
      "224/224 [==============================] - 191s 853ms/step - loss: 0.3520 - accuracy: 0.9055 - val_loss: 1.1388 - val_accuracy: 0.6717\n"
     ]
    },
    {
     "data": {
      "text/plain": [
       "<tensorflow.python.keras.callbacks.History at 0x1f0ee6bbd30>"
      ]
     },
     "execution_count": 94,
     "metadata": {},
     "output_type": "execute_result"
    }
   ],
   "source": [
    "model.fit(x,y,epochs=5,validation_split=0.3)"
   ]
  },
  {
   "cell_type": "code",
   "execution_count": 98,
   "metadata": {},
   "outputs": [
    {
     "data": {
      "text/plain": [
       "'siberian_husky'"
      ]
     },
     "execution_count": 98,
     "metadata": {},
     "output_type": "execute_result"
    }
   ],
   "source": [
    "res = model.predict([x[500:501]])\n",
    "names[int(np.argmax(res))]"
   ]
  },
  {
   "cell_type": "code",
   "execution_count": 99,
   "metadata": {},
   "outputs": [
    {
     "data": {
      "text/plain": [
       "'siberian_husky'"
      ]
     },
     "execution_count": 99,
     "metadata": {},
     "output_type": "execute_result"
    }
   ],
   "source": [
    "names[y[500]]"
   ]
  },
  {
   "cell_type": "code",
   "execution_count": 100,
   "metadata": {},
   "outputs": [
    {
     "name": "stdout",
     "output_type": "stream",
     "text": [
      "INFO:tensorflow:Assets written to: breedclassifier\\assets\n"
     ]
    },
    {
     "name": "stderr",
     "output_type": "stream",
     "text": [
      "INFO:tensorflow:Assets written to: breedclassifier\\assets\n"
     ]
    }
   ],
   "source": [
    "model.save('breedclassifier')"
   ]
  },
  {
   "cell_type": "code",
   "execution_count": 30,
   "metadata": {},
   "outputs": [],
   "source": [
    "def prepare(path):\n",
    "    img_arr = cv2.imread(path,1)\n",
    "    #print(img_arr.shape)\n",
    "    img_arr = cv2.resize(img_arr,(224,224))\n",
    "    img_arr = img_arr/255\n",
    "    \n",
    "    return img_arr[np.newaxis, ...]"
   ]
  },
  {
   "cell_type": "code",
   "execution_count": 117,
   "metadata": {},
   "outputs": [
    {
     "data": {
      "text/plain": [
       "'samoyed'"
      ]
     },
     "execution_count": 117,
     "metadata": {},
     "output_type": "execute_result"
    }
   ],
   "source": [
    "res1 = model.predict([prepare(\"rocky.jpeg\")])\n",
    "names[int(np.argmax(res1))]"
   ]
  },
  {
   "cell_type": "markdown",
   "metadata": {},
   "source": [
    "### Image I gave as Input\n"
   ]
  },
  {
   "cell_type": "code",
   "execution_count": 115,
   "metadata": {},
   "outputs": [
    {
     "data": {
      "text/plain": [
       "<matplotlib.image.AxesImage at 0x1f0c3b8ca30>"
      ]
     },
     "execution_count": 115,
     "metadata": {},
     "output_type": "execute_result"
    },
    {
     "data": {
      "image/png": "[encoded data removed]",
      "text/plain": [
       "<Figure size 432x288 with 1 Axes>"
      ]
     },
     "metadata": {
      "needs_background": "light"
     },
     "output_type": "display_data"
    }
   ],
   "source": [
    "import matplotlib.pyplot as plt\n",
    "plt.imshow(cv2.imread(\"rocky.jpeg\"))"
   ]
  },
  {
   "attachments": {
    "samoyed.jpg": {
     "image/jpeg": "[encoded data removed]"
    }
   },
   "cell_type": "markdown",
   "metadata": {},
   "source": [
    "### Example of \"samoyed\" Model predicted\n",
    "![samoyed.jpg](attachment:samoyed.jpg)"
   ]
  },
  {
   "cell_type": "markdown",
   "metadata": {},
   "source": [
    "### We can see here that even though the validation accuracy is around the 70s, Model is actually able to perform fairly good.\n",
    "### We can see an example for its working above"
   ]
  },
  {
   "cell_type": "markdown",
   "metadata": {},
   "source": [
    "# 2: 10 Class Classifer"
   ]
  },
  {
   "cell_type": "code",
   "execution_count": 1,
   "metadata": {},
   "outputs": [],
   "source": [
    "img_path = r\"C:\\Users\\amalr\\OneDrive\\Desktop\\data\\train\""
   ]
  },
  {
   "cell_type": "code",
   "execution_count": 2,
   "metadata": {},
   "outputs": [],
   "source": [
    "# Selected dog_breeds\n",
    "dog_breeds = [\"beagle\", \"chihuahua\", \"doberman\",\n",
    "\"french_bulldog\", \"golden_retriever\", \"malamute\", \"pug\", \"saint_bernard\", \"scottish_deerhound\",\n",
    "\"tibetan_mastiff\"]"
   ]
  },
  {
   "cell_type": "code",
   "execution_count": 6,
   "metadata": {},
   "outputs": [
    {
     "data": {
      "text/html": [
       "<div>\n",
       "<style scoped>\n",
       "    .dataframe tbody tr th:only-of-type {\n",
       "        vertical-align: middle;\n",
       "    }\n",
       "\n",
       "    .dataframe tbody tr th {\n",
       "        vertical-align: top;\n",
       "    }\n",
       "\n",
       "    .dataframe thead th {\n",
       "        text-align: right;\n",
       "    }\n",
       "</style>\n",
       "<table border=\"1\" class=\"dataframe\">\n",
       "  <thead>\n",
       "    <tr style=\"text-align: right;\">\n",
       "      <th></th>\n",
       "      <th>id</th>\n",
       "      <th>breed</th>\n",
       "    </tr>\n",
       "  </thead>\n",
       "  <tbody>\n",
       "    <tr>\n",
       "      <th>0</th>\n",
       "      <td>000bec180eb18c7604dcecc8fe0dba07</td>\n",
       "      <td>boston_bull</td>\n",
       "    </tr>\n",
       "    <tr>\n",
       "      <th>1</th>\n",
       "      <td>001513dfcb2ffafc82cccf4d8bbaba97</td>\n",
       "      <td>dingo</td>\n",
       "    </tr>\n",
       "    <tr>\n",
       "      <th>2</th>\n",
       "      <td>001cdf01b096e06d78e9e5112d419397</td>\n",
       "      <td>pekinese</td>\n",
       "    </tr>\n",
       "    <tr>\n",
       "      <th>3</th>\n",
       "      <td>00214f311d5d2247d5dfe4fe24b2303d</td>\n",
       "      <td>bluetick</td>\n",
       "    </tr>\n",
       "    <tr>\n",
       "      <th>4</th>\n",
       "      <td>0021f9ceb3235effd7fcde7f7538ed62</td>\n",
       "      <td>golden_retriever</td>\n",
       "    </tr>\n",
       "    <tr>\n",
       "      <th>...</th>\n",
       "      <td>...</td>\n",
       "      <td>...</td>\n",
       "    </tr>\n",
       "    <tr>\n",
       "      <th>10217</th>\n",
       "      <td>ffd25009d635cfd16e793503ac5edef0</td>\n",
       "      <td>borzoi</td>\n",
       "    </tr>\n",
       "    <tr>\n",
       "      <th>10218</th>\n",
       "      <td>ffd3f636f7f379c51ba3648a9ff8254f</td>\n",
       "      <td>dandie_dinmont</td>\n",
       "    </tr>\n",
       "    <tr>\n",
       "      <th>10219</th>\n",
       "      <td>ffe2ca6c940cddfee68fa3cc6c63213f</td>\n",
       "      <td>airedale</td>\n",
       "    </tr>\n",
       "    <tr>\n",
       "      <th>10220</th>\n",
       "      <td>ffe5f6d8e2bff356e9482a80a6e29aac</td>\n",
       "      <td>miniature_pinscher</td>\n",
       "    </tr>\n",
       "    <tr>\n",
       "      <th>10221</th>\n",
       "      <td>fff43b07992508bc822f33d8ffd902ae</td>\n",
       "      <td>chesapeake_bay_retriever</td>\n",
       "    </tr>\n",
       "  </tbody>\n",
       "</table>\n",
       "<p>10222 rows × 2 columns</p>\n",
       "</div>"
      ],
      "text/plain": [
       "                                     id                     breed\n",
       "0      000bec180eb18c7604dcecc8fe0dba07               boston_bull\n",
       "1      001513dfcb2ffafc82cccf4d8bbaba97                     dingo\n",
       "2      001cdf01b096e06d78e9e5112d419397                  pekinese\n",
       "3      00214f311d5d2247d5dfe4fe24b2303d                  bluetick\n",
       "4      0021f9ceb3235effd7fcde7f7538ed62          golden_retriever\n",
       "...                                 ...                       ...\n",
       "10217  ffd25009d635cfd16e793503ac5edef0                    borzoi\n",
       "10218  ffd3f636f7f379c51ba3648a9ff8254f            dandie_dinmont\n",
       "10219  ffe2ca6c940cddfee68fa3cc6c63213f                  airedale\n",
       "10220  ffe5f6d8e2bff356e9482a80a6e29aac        miniature_pinscher\n",
       "10221  fff43b07992508bc822f33d8ffd902ae  chesapeake_bay_retriever\n",
       "\n",
       "[10222 rows x 2 columns]"
      ]
     },
     "execution_count": 6,
     "metadata": {},
     "output_type": "execute_result"
    }
   ],
   "source": [
    "df"
   ]
  },
  {
   "cell_type": "code",
   "execution_count": 7,
   "metadata": {},
   "outputs": [],
   "source": [
    "# loading and preprocessing the data\n",
    "training_data = []\n",
    "for i in range(len(df)):\n",
    "    if df[\"breed\"][i] in dog_breeds:\n",
    "        path = os.path.join(img_path,df[\"id\"][i])+\".jpg\"\n",
    "        #print(path)\n",
    "        img_arr = cv2.imread(path,1)\n",
    "        #print(img_arr.shape)\n",
    "        img_arr = cv2.resize(img_arr,(224,224))\n",
    "        training_data.append([img_arr,dog_breeds.index(df[\"breed\"][i])])"
   ]
  },
  {
   "cell_type": "code",
   "execution_count": 8,
   "metadata": {},
   "outputs": [
    {
     "data": {
      "text/plain": [
       "841"
      ]
     },
     "execution_count": 8,
     "metadata": {},
     "output_type": "execute_result"
    }
   ],
   "source": [
    "len(training_data)"
   ]
  },
  {
   "cell_type": "code",
   "execution_count": 9,
   "metadata": {},
   "outputs": [],
   "source": [
    "random.shuffle(training_data)"
   ]
  },
  {
   "cell_type": "code",
   "execution_count": 23,
   "metadata": {},
   "outputs": [],
   "source": [
    "# Creating  the data and variable\n",
    "x1 = []\n",
    "y1 = []\n",
    "for img,label in training_data:\n",
    "    x1.append(img)\n",
    "    y1.append(label)"
   ]
  },
  {
   "cell_type": "code",
   "execution_count": 24,
   "metadata": {},
   "outputs": [],
   "source": [
    "#Scaling the data\n",
    "x1 = np.array(x1)/255"
   ]
  },
  {
   "cell_type": "code",
   "execution_count": 25,
   "metadata": {},
   "outputs": [
    {
     "data": {
      "text/plain": [
       "(1682,)"
      ]
     },
     "execution_count": 25,
     "metadata": {},
     "output_type": "execute_result"
    }
   ],
   "source": [
    "y1 = np.array(y1)\n",
    "y.shape"
   ]
  },
  {
   "cell_type": "markdown",
   "metadata": {},
   "source": [
    "# Model creation, training and testing"
   ]
  },
  {
   "cell_type": "code",
   "execution_count": 19,
   "metadata": {},
   "outputs": [],
   "source": [
    "classes = len(dog_breeds)\n",
    "model1 = Sequential()\n",
    "model1.add(mobnet)\n",
    "model1.add(Dense(128))\n",
    "model1.add(Activation(\"relu\"))\n",
    "model1.add(Dense(classes))\n",
    "model1.add(Activation(\"softmax\"))"
   ]
  },
  {
   "cell_type": "code",
   "execution_count": 20,
   "metadata": {},
   "outputs": [
    {
     "name": "stdout",
     "output_type": "stream",
     "text": [
      "Model: \"sequential_2\"\n",
      "_________________________________________________________________\n",
      "Layer (type)                 Output Shape              Param #   \n",
      "=================================================================\n",
      "keras_layer (KerasLayer)     (None, 1280)              2257984   \n",
      "_________________________________________________________________\n",
      "dense_4 (Dense)              (None, 128)               163968    \n",
      "_________________________________________________________________\n",
      "activation_4 (Activation)    (None, 128)               0         \n",
      "_________________________________________________________________\n",
      "dense_5 (Dense)              (None, 10)                1290      \n",
      "_________________________________________________________________\n",
      "activation_5 (Activation)    (None, 10)                0         \n",
      "=================================================================\n",
      "Total params: 2,423,242\n",
      "Trainable params: 165,258\n",
      "Non-trainable params: 2,257,984\n",
      "_________________________________________________________________\n"
     ]
    }
   ],
   "source": [
    "model1.summary()"
   ]
  },
  {
   "cell_type": "code",
   "execution_count": 28,
   "metadata": {},
   "outputs": [],
   "source": [
    "model1.compile(optimizer=\"adam\",\n",
    "             loss = \"sparse_categorical_crossentropy\",\n",
    "             metrics = [\"accuracy\"])"
   ]
  },
  {
   "cell_type": "code",
   "execution_count": 29,
   "metadata": {},
   "outputs": [
    {
     "name": "stdout",
     "output_type": "stream",
     "text": [
      "Epoch 1/10\n",
      "23/23 [==============================] - 26s 1s/step - loss: 0.0193 - accuracy: 0.9957 - val_loss: 0.3007 - val_accuracy: 0.9213\n",
      "Epoch 2/10\n",
      "23/23 [==============================] - 21s 938ms/step - loss: 0.0062 - accuracy: 1.0000 - val_loss: 0.3330 - val_accuracy: 0.9213\n",
      "Epoch 3/10\n",
      "23/23 [==============================] - 21s 921ms/step - loss: 0.0035 - accuracy: 1.0000 - val_loss: 0.2324 - val_accuracy: 0.9449\n",
      "Epoch 4/10\n",
      "23/23 [==============================] - 21s 942ms/step - loss: 0.0015 - accuracy: 1.0000 - val_loss: 0.2542 - val_accuracy: 0.9528\n",
      "Epoch 5/10\n",
      "23/23 [==============================] - 21s 931ms/step - loss: 7.2696e-04 - accuracy: 1.0000 - val_loss: 0.2457 - val_accuracy: 0.9528\n",
      "Epoch 6/10\n",
      "23/23 [==============================] - 21s 940ms/step - loss: 5.9975e-04 - accuracy: 1.0000 - val_loss: 0.2480 - val_accuracy: 0.9449\n",
      "Epoch 7/10\n",
      "23/23 [==============================] - 21s 927ms/step - loss: 4.3470e-04 - accuracy: 1.0000 - val_loss: 0.2501 - val_accuracy: 0.9528\n",
      "Epoch 8/10\n",
      "23/23 [==============================] - 22s 952ms/step - loss: 3.3086e-04 - accuracy: 1.0000 - val_loss: 0.2536 - val_accuracy: 0.9528\n",
      "Epoch 9/10\n",
      "23/23 [==============================] - 21s 932ms/step - loss: 3.0744e-04 - accuracy: 1.0000 - val_loss: 0.2541 - val_accuracy: 0.9528\n",
      "Epoch 10/10\n",
      "23/23 [==============================] - 21s 926ms/step - loss: 2.5368e-04 - accuracy: 1.0000 - val_loss: 0.2539 - val_accuracy: 0.9528\n"
     ]
    },
    {
     "data": {
      "text/plain": [
       "<tensorflow.python.keras.callbacks.History at 0x1efbe4089a0>"
      ]
     },
     "execution_count": 29,
     "metadata": {},
     "output_type": "execute_result"
    }
   ],
   "source": [
    "model1.fit(x1,y1,epochs=10,validation_split=0.15)"
   ]
  },
  {
   "cell_type": "code",
   "execution_count": 31,
   "metadata": {},
   "outputs": [
    {
     "data": {
      "text/plain": [
       "'beagle'"
      ]
     },
     "execution_count": 31,
     "metadata": {},
     "output_type": "execute_result"
    }
   ],
   "source": [
    "result = model1.predict([prepare(\"beagle.jpg\")])\n",
    "dog_breeds[int(np.argmax(result))]"
   ]
  },
  {
   "cell_type": "code",
   "execution_count": 32,
   "metadata": {},
   "outputs": [
    {
     "data": {
      "text/plain": [
       "'tibetan_mastiff'"
      ]
     },
     "execution_count": 32,
     "metadata": {},
     "output_type": "execute_result"
    }
   ],
   "source": [
    "result = model1.predict([prepare(\"tibettan.jpg\")])\n",
    "dog_breeds[int(np.argmax(result))]"
   ]
  },
  {
   "cell_type": "markdown",
   "metadata": {},
   "source": [
    "# We can see here that the model has achieved a very high accuracy and it is accuractly predicting the images outside of its training dataset."
   ]
  },
  {
   "cell_type": "code",
   "execution_count": null,
   "metadata": {},
   "outputs": [],
   "source": []
  }
 ],
 "metadata": {
  "kernelspec": {
   "display_name": "Python 3",
   "language": "python",
   "name": "python3"
  },
  "language_info": {
   "codemirror_mode": {
    "name": "ipython",
    "version": 3
   },
   "file_extension": ".py",
   "mimetype": "text/x-python",
   "name": "python",
   "nbconvert_exporter": "python",
   "pygments_lexer": "ipython3",
   "version": "3.8.3"
  }
 },
 "nbformat": 4,
 "nbformat_minor": 4
}
